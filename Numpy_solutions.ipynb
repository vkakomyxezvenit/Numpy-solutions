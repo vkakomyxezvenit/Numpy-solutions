{
  "nbformat": 4,
  "nbformat_minor": 0,
  "metadata": {
    "colab": {
      "provenance": []
    },
    "kernelspec": {
      "name": "python3",
      "display_name": "Python 3"
    },
    "language_info": {
      "name": "python"
    }
  },
  "cells": [
    {
      "cell_type": "code",
      "execution_count": 1,
      "metadata": {
        "id": "7uNr9wxs6F9E"
      },
      "outputs": [],
      "source": [
        "import numpy as np"
      ]
    },
    {
      "cell_type": "code",
      "source": [
        "#Создать массив из 10-ти нулей.\n",
        "a=np.zeros(10)\n",
        "print(a)"
      ],
      "metadata": {
        "colab": {
          "base_uri": "https://localhost:8080/"
        },
        "id": "LcOTYw9u6t5m",
        "outputId": "ce75ede6-6a02-45d4-8e07-a0aa78c5417c"
      },
      "execution_count": 2,
      "outputs": [
        {
          "output_type": "stream",
          "name": "stdout",
          "text": [
            "[0. 0. 0. 0. 0. 0. 0. 0. 0. 0.]\n"
          ]
        }
      ]
    },
    {
      "cell_type": "code",
      "source": [
        "#Создать массив из 10-ти единиц.\n",
        "a=np.ones(10)\n",
        "print(a)"
      ],
      "metadata": {
        "colab": {
          "base_uri": "https://localhost:8080/"
        },
        "id": "WGI2_VX16yBn",
        "outputId": "59f3380c-ddff-4950-bc0d-d17a9c115b2e"
      },
      "execution_count": 3,
      "outputs": [
        {
          "output_type": "stream",
          "name": "stdout",
          "text": [
            "[1. 1. 1. 1. 1. 1. 1. 1. 1. 1.]\n"
          ]
        }
      ]
    },
    {
      "cell_type": "code",
      "source": [
        "#Создать массив из 10-ти пятёрок.\n",
        "a=np.ones(10)*5\n",
        "print(a)"
      ],
      "metadata": {
        "colab": {
          "base_uri": "https://localhost:8080/"
        },
        "id": "_0XXTAtF62Q1",
        "outputId": "e1b0adf4-7ed2-4f13-8527-8ef180c7a2db"
      },
      "execution_count": 4,
      "outputs": [
        {
          "output_type": "stream",
          "name": "stdout",
          "text": [
            "[5. 5. 5. 5. 5. 5. 5. 5. 5. 5.]\n"
          ]
        }
      ]
    },
    {
      "cell_type": "code",
      "source": [
        "#Создать массив из целых чисел от 10-ти до 50-ти.\n",
        "a=np.arange(10,51)\n",
        "print(a)"
      ],
      "metadata": {
        "colab": {
          "base_uri": "https://localhost:8080/"
        },
        "id": "37TGE_wA66rw",
        "outputId": "ed9ccf32-6a00-4ee5-cb77-ec56acfccbef"
      },
      "execution_count": 5,
      "outputs": [
        {
          "output_type": "stream",
          "name": "stdout",
          "text": [
            "[10 11 12 13 14 15 16 17 18 19 20 21 22 23 24 25 26 27 28 29 30 31 32 33\n",
            " 34 35 36 37 38 39 40 41 42 43 44 45 46 47 48 49 50]\n"
          ]
        }
      ]
    },
    {
      "cell_type": "code",
      "source": [
        "#Создать массив из чётных чисел от 10-ти до 50-ти.\n",
        "a=np.arange(10,51,2)\n",
        "print(a)"
      ],
      "metadata": {
        "colab": {
          "base_uri": "https://localhost:8080/"
        },
        "id": "meXECDwf7F6z",
        "outputId": "a0a4162f-7872-4acc-b712-2f23c32bdc35"
      },
      "execution_count": 6,
      "outputs": [
        {
          "output_type": "stream",
          "name": "stdout",
          "text": [
            "[10 12 14 16 18 20 22 24 26 28 30 32 34 36 38 40 42 44 46 48 50]\n"
          ]
        }
      ]
    },
    {
      "cell_type": "code",
      "source": [
        "#Создать матрицу 3*3 с числами от 0 до 8.\n",
        "a=np.arange(9) . reshape(3,3)\n",
        "print(a)"
      ],
      "metadata": {
        "colab": {
          "base_uri": "https://localhost:8080/"
        },
        "id": "YbxgF6K67IbN",
        "outputId": "7c40e998-3fca-4eaa-c1ee-b132642e1a14"
      },
      "execution_count": 7,
      "outputs": [
        {
          "output_type": "stream",
          "name": "stdout",
          "text": [
            "[[0 1 2]\n",
            " [3 4 5]\n",
            " [6 7 8]]\n"
          ]
        }
      ]
    },
    {
      "cell_type": "code",
      "source": [
        "#Создать единичную матрицу 3x3\n",
        "a=np.eye(3)\n",
        "print(a)"
      ],
      "metadata": {
        "colab": {
          "base_uri": "https://localhost:8080/"
        },
        "id": "ToR_C5DC7XyN",
        "outputId": "f6685ea0-d78c-45d8-ca4d-d5fbbbd4d0f0"
      },
      "execution_count": 8,
      "outputs": [
        {
          "output_type": "stream",
          "name": "stdout",
          "text": [
            "[[1. 0. 0.]\n",
            " [0. 1. 0.]\n",
            " [0. 0. 1.]]\n"
          ]
        }
      ]
    },
    {
      "cell_type": "code",
      "source": [
        "#Использовать NumPy для генерации случайного числа от 0 до 1.\n",
        "a=np.random.rand()\n",
        "print(a)"
      ],
      "metadata": {
        "colab": {
          "base_uri": "https://localhost:8080/"
        },
        "id": "w2zu5Coe7l_Y",
        "outputId": "632e315f-e8f8-472e-be5f-c5612d1c4b25"
      },
      "execution_count": 9,
      "outputs": [
        {
          "output_type": "stream",
          "name": "stdout",
          "text": [
            "0.40348604750104333\n"
          ]
        }
      ]
    },
    {
      "cell_type": "code",
      "source": [
        "#Использовать NumPy для генерации массива из 25-ти случайных чисел, взятых из стандартного нормального распределения.\n",
        "a=np.random.rand(25)\n",
        "print(a)"
      ],
      "metadata": {
        "colab": {
          "base_uri": "https://localhost:8080/"
        },
        "id": "TIuduBhU7yQ3",
        "outputId": "d2ede5dd-f71a-4f8a-da2e-fb3ef4031cd7"
      },
      "execution_count": 10,
      "outputs": [
        {
          "output_type": "stream",
          "name": "stdout",
          "text": [
            "[0.93458396 0.91462496 0.16035975 0.5381568  0.46504353 0.37074591\n",
            " 0.81327201 0.59289263 0.93815289 0.73037231 0.91411721 0.69170909\n",
            " 0.12262411 0.66620286 0.65503052 0.94486566 0.81252052 0.66919487\n",
            " 0.72833939 0.43158923 0.77717333 0.13194516 0.26291883 0.03881812\n",
            " 0.79691946]\n"
          ]
        }
      ]
    },
    {
      "cell_type": "code",
      "source": [
        "#Создать матрицу, используя функции библиотеки NumPy.\n",
        "a=np.arange(0.01,1.01,0.01) . reshape(10,10)\n",
        "print(a)"
      ],
      "metadata": {
        "colab": {
          "base_uri": "https://localhost:8080/"
        },
        "id": "iBU231oe71GP",
        "outputId": "3635cb75-8f0a-4bbf-94d4-7171d4b3c659"
      },
      "execution_count": 11,
      "outputs": [
        {
          "output_type": "stream",
          "name": "stdout",
          "text": [
            "[[0.01 0.02 0.03 0.04 0.05 0.06 0.07 0.08 0.09 0.1 ]\n",
            " [0.11 0.12 0.13 0.14 0.15 0.16 0.17 0.18 0.19 0.2 ]\n",
            " [0.21 0.22 0.23 0.24 0.25 0.26 0.27 0.28 0.29 0.3 ]\n",
            " [0.31 0.32 0.33 0.34 0.35 0.36 0.37 0.38 0.39 0.4 ]\n",
            " [0.41 0.42 0.43 0.44 0.45 0.46 0.47 0.48 0.49 0.5 ]\n",
            " [0.51 0.52 0.53 0.54 0.55 0.56 0.57 0.58 0.59 0.6 ]\n",
            " [0.61 0.62 0.63 0.64 0.65 0.66 0.67 0.68 0.69 0.7 ]\n",
            " [0.71 0.72 0.73 0.74 0.75 0.76 0.77 0.78 0.79 0.8 ]\n",
            " [0.81 0.82 0.83 0.84 0.85 0.86 0.87 0.88 0.89 0.9 ]\n",
            " [0.91 0.92 0.93 0.94 0.95 0.96 0.97 0.98 0.99 1.  ]]\n"
          ]
        }
      ]
    },
    {
      "cell_type": "code",
      "source": [
        "#это наша стартовая матрица\n",
        "mat = np.arange(1,26).reshape(5,5)\n",
        "print(mat)"
      ],
      "metadata": {
        "colab": {
          "base_uri": "https://localhost:8080/"
        },
        "id": "dw2OYJ2i78_G",
        "outputId": "27cf7f21-3514-488d-c7c2-0791a513a37c"
      },
      "execution_count": 18,
      "outputs": [
        {
          "output_type": "stream",
          "name": "stdout",
          "text": [
            "[[ 1  2  3  4  5]\n",
            " [ 6  7  8  9 10]\n",
            " [11 12 13 14 15]\n",
            " [16 17 18 19 20]\n",
            " [21 22 23 24 25]]\n"
          ]
        }
      ]
    },
    {
      "cell_type": "code",
      "source": [
        "#Написать код, который вернет следующую матрицу из стартовой.\n",
        "a=np.arange(1,26).reshape(5,5)\n",
        "print(mat[2:5, 1:5])"
      ],
      "metadata": {
        "colab": {
          "base_uri": "https://localhost:8080/"
        },
        "id": "FbaKelea8JYH",
        "outputId": "4eeac7f2-ffab-4108-e889-b0e95ddb0651"
      },
      "execution_count": 13,
      "outputs": [
        {
          "output_type": "stream",
          "name": "stdout",
          "text": [
            "[[12 13 14 15]\n",
            " [17 18 19 20]\n",
            " [22 23 24 25]]\n"
          ]
        }
      ]
    },
    {
      "cell_type": "code",
      "source": [
        "#Написать код обращения к элементу, который вернет значение  20 из стартовой матрицы задачи l\n",
        "mat=np.arange(1,26).reshape(5,5)\n",
        "print(mat[3][4])"
      ],
      "metadata": {
        "colab": {
          "base_uri": "https://localhost:8080/"
        },
        "id": "RHEtmLGq8WJl",
        "outputId": "adff09f6-4666-4c70-9d54-21fbe1f43845"
      },
      "execution_count": 14,
      "outputs": [
        {
          "output_type": "stream",
          "name": "stdout",
          "text": [
            "20\n"
          ]
        }
      ]
    },
    {
      "cell_type": "code",
      "source": [
        "#Написать код к стартовой матрице задачи l\n",
        "mat=np.arange(1,26).reshape(5,5)\n",
        "print(mat[0:3, 1:2])"
      ],
      "metadata": {
        "colab": {
          "base_uri": "https://localhost:8080/"
        },
        "id": "5719nYru8hMC",
        "outputId": "32f6a4b9-c778-4a7a-eb47-3a81c1c77827"
      },
      "execution_count": 15,
      "outputs": [
        {
          "output_type": "stream",
          "name": "stdout",
          "text": [
            "[[ 2]\n",
            " [ 7]\n",
            " [12]]\n"
          ]
        }
      ]
    },
    {
      "cell_type": "code",
      "source": [
        "#Написать код к стартовой матрице задачи l\n",
        "mat=np.arange(1,26).reshape(5,5)\n",
        "print(mat[4, :])"
      ],
      "metadata": {
        "colab": {
          "base_uri": "https://localhost:8080/"
        },
        "id": "-UAT-zTa89ha",
        "outputId": "bcfa8375-7b0e-4bc7-d4b2-6443eba6e97b"
      },
      "execution_count": 16,
      "outputs": [
        {
          "output_type": "stream",
          "name": "stdout",
          "text": [
            "[21 22 23 24 25]\n"
          ]
        }
      ]
    },
    {
      "cell_type": "code",
      "source": [
        "#Написать код к стартовой матрице задачи l\n",
        "mat=np.arange(1,26).reshape(5,5)\n",
        "print(mat[3:5, :])"
      ],
      "metadata": {
        "colab": {
          "base_uri": "https://localhost:8080/"
        },
        "id": "QQARSoUS9D5z",
        "outputId": "e871ad93-9f3f-45a8-ce41-66896465ce0b"
      },
      "execution_count": 17,
      "outputs": [
        {
          "output_type": "stream",
          "name": "stdout",
          "text": [
            "[[16 17 18 19 20]\n",
            " [21 22 23 24 25]]\n"
          ]
        }
      ]
    },
    {
      "cell_type": "code",
      "source": [
        "#Получить сумму всех значений в стартовой матрице mat.\n",
        "mat=np.arange(1,26).reshape(5,5)\n",
        "print(mat.sum())"
      ],
      "metadata": {
        "colab": {
          "base_uri": "https://localhost:8080/"
        },
        "id": "VdtTdGKo9KIc",
        "outputId": "f9d3c04a-4cf0-4040-e9e8-c108b4cff02d"
      },
      "execution_count": 19,
      "outputs": [
        {
          "output_type": "stream",
          "name": "stdout",
          "text": [
            "325\n"
          ]
        }
      ]
    },
    {
      "cell_type": "code",
      "source": [
        "#Получить стандартное отклонение к стартовой матрице mat.\n",
        "mat=np.arange(1,26).reshape(5,5)\n",
        "print(mat.std())"
      ],
      "metadata": {
        "colab": {
          "base_uri": "https://localhost:8080/"
        },
        "id": "h39RjAOH9QZH",
        "outputId": "947e41a0-4a9a-4213-c28f-63d26de439f7"
      },
      "execution_count": 20,
      "outputs": [
        {
          "output_type": "stream",
          "name": "stdout",
          "text": [
            "7.211102550927978\n"
          ]
        }
      ]
    },
    {
      "cell_type": "code",
      "source": [
        "#Получить сумму значений в колонках к стартовой матрице mat.\n",
        "mat=np.arange(1,26).reshape(5,5)\n",
        "print(mat)\n",
        "print('SUM')\n",
        "print(mat.sum(axis=0))"
      ],
      "metadata": {
        "colab": {
          "base_uri": "https://localhost:8080/"
        },
        "id": "Cv_nVdLH9bPj",
        "outputId": "fc19d1b7-6d35-4e2c-cfb9-7caee32ff568"
      },
      "execution_count": 23,
      "outputs": [
        {
          "output_type": "stream",
          "name": "stdout",
          "text": [
            "[[ 1  2  3  4  5]\n",
            " [ 6  7  8  9 10]\n",
            " [11 12 13 14 15]\n",
            " [16 17 18 19 20]\n",
            " [21 22 23 24 25]]\n",
            "SUM\n",
            "[55 60 65 70 75]\n"
          ]
        }
      ]
    }
  ]
}